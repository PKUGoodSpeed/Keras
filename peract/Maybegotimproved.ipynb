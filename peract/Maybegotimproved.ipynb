{
 "cells": [
  {
   "cell_type": "code",
   "execution_count": 300,
   "metadata": {},
   "outputs": [],
   "source": [
    "import numpy as np\n",
    "from keras.models import Sequential\n",
    "from keras.layers import Dense, Dropout, Activation, Flatten, Conv2D, MaxPooling2D\n",
    "from keras.optimizers import SGD, Adam, RMSprop, Adadelta\n",
    "from keras.utils import np_utils, plot_model\n",
    "from sys import stdout"
   ]
  },
  {
   "cell_type": "code",
   "execution_count": 301,
   "metadata": {
    "collapsed": true
   },
   "outputs": [],
   "source": [
    "%matplotlib inline\n",
    "import matplotlib as mpl\n",
    "import matplotlib.pyplot as plt\n",
    "mpl.rc('font', family = 'serif', size = 17)\n",
    "mpl.rcParams['xtick.major.size'] = 5\n",
    "mpl.rcParams['xtick.minor.size'] = 2\n",
    "mpl.rcParams['ytick.major.size'] = 5\n",
    "mpl.rcParams['ytick.minor.size'] = 2"
   ]
  },
  {
   "cell_type": "code",
   "execution_count": 302,
   "metadata": {},
   "outputs": [],
   "source": [
    "fp = open('data/train.txt','r')\n",
    "raw_x = []\n",
    "raw_y = []\n",
    "for line in fp:\n",
    "    tmp = list(map(float, line.split(' ')))\n",
    "    a = tmp[-1]\n",
    "    raw_x.append(np.array(tmp[:-1]))\n",
    "    if(a > 0.5):\n",
    "        raw_y.append(2)\n",
    "    elif(a < -0.5):\n",
    "        raw_y.append(1)\n",
    "    else:\n",
    "        raw_y.append(0)\n",
    "fp.close()\n",
    "raw_y = np.array(raw_y)"
   ]
  },
  {
   "cell_type": "code",
   "execution_count": 303,
   "metadata": {
    "collapsed": true
   },
   "outputs": [],
   "source": [
    "def getMat(arr, win):\n",
    "    ans = []\n",
    "    N = len(arr) - win + 1\n",
    "    batch_size = N/50\n",
    "    for i in range(len(arr) - win + 1):\n",
    "        if(i%batch_size == 0):\n",
    "            stdout.write('=')\n",
    "            stdout.flush()\n",
    "        ans.append(np.array([np.array(vec) for vec in arr[i:i+win]]))\n",
    "    return ans"
   ]
  },
  {
   "cell_type": "code",
   "execution_count": 304,
   "metadata": {},
   "outputs": [
    {
     "name": "stdout",
     "output_type": "stream",
     "text": [
      "(1262394, 13) (1262394,)\n",
      "13\n"
     ]
    }
   ],
   "source": [
    "print np.shape(raw_x), np.shape(raw_y)\n",
    "n_feat = np.shape(raw_x)[1]\n",
    "print n_feat"
   ]
  },
  {
   "cell_type": "markdown",
   "metadata": {},
   "source": [
    "### Getting price information"
   ]
  },
  {
   "cell_type": "code",
   "execution_count": null,
   "metadata": {},
   "outputs": [
    {
     "name": "stdout",
     "output_type": "stream",
     "text": [
      "(2, 1262394)\n",
      "[ 10027.  10027.  10027.  10027.  10027.]\n",
      "[ 10026.  10026.  10026.  10026.  10026.]\n"
     ]
    }
   ],
   "source": [
    "fp = open('data/prcs.txt','r')\n",
    "prc = []\n",
    "for line in fp:\n",
    "    prc.append(np.array(map(float, line.split(' '))))\n",
    "print np.shape(prc)\n",
    "ask = prc[0]\n",
    "bid = prc[1]\n",
    "print ask[:5]\n",
    "print bid[:5]"
   ]
  },
  {
   "cell_type": "markdown",
   "metadata": {},
   "source": [
    "### Generating matrix data"
   ]
  },
  {
   "cell_type": "code",
   "execution_count": null,
   "metadata": {},
   "outputs": [
    {
     "name": "stdout",
     "output_type": "stream",
     "text": [
      "==========="
     ]
    }
   ],
   "source": [
    "win = 25\n",
    "raw_x = getMat(raw_x , win)\n",
    "raw_y = raw_y[win-1:]\n",
    "ask = ask[win-1:]\n",
    "bid = bid[win-1:]\n",
    "print \"\\n\",np.shape(raw_x), np.shape(raw_y), np.shape(ask), np.shape(bid)"
   ]
  },
  {
   "cell_type": "code",
   "execution_count": null,
   "metadata": {
    "collapsed": true
   },
   "outputs": [],
   "source": [
    "N_train = len(raw_y)*7/10\n",
    "N_test = len(raw_y) - N_train\n",
    "x_train = raw_x[:N_train]\n",
    "x_test = raw_x[N_train:]\n",
    "y_train = raw_y[:N_train]\n",
    "y_test = raw_y[N_train:]\n",
    "ask_test = ask[N_train:]\n",
    "bid_test = bid[N_train:]"
   ]
  },
  {
   "cell_type": "code",
   "execution_count": null,
   "metadata": {},
   "outputs": [],
   "source": [
    "def comp_cls_wts(y, pwr = 0.64):\n",
    "    dic = {}\n",
    "    for x in set(y):\n",
    "        dic[x] = (len(y))**pwr/(list(y).count(x))**pwr\n",
    "    return dic\n",
    "cls_wts = comp_cls_wts(y_train)\n",
    "cls_wts"
   ]
  },
  {
   "cell_type": "code",
   "execution_count": null,
   "metadata": {
    "collapsed": true
   },
   "outputs": [],
   "source": [
    "y_train = np_utils.to_categorical(y_train, 3)\n",
    "y_test = np_utils.to_categorical(y_test, 3)"
   ]
  },
  {
   "cell_type": "code",
   "execution_count": null,
   "metadata": {
    "collapsed": true
   },
   "outputs": [],
   "source": [
    "x_train = np.array(x_train).reshape(N_train, win, n_feat, 1)\n",
    "x_test = np.array(x_test).reshape(N_test, win, n_feat, 1)\n",
    "y_train = np.array(y_train)\n",
    "y_test = np.array(y_test)"
   ]
  },
  {
   "cell_type": "code",
   "execution_count": null,
   "metadata": {
    "collapsed": true
   },
   "outputs": [],
   "source": [
    "n_cls = 3"
   ]
  },
  {
   "cell_type": "code",
   "execution_count": null,
   "metadata": {},
   "outputs": [],
   "source": [
    "n_cls = 3\n",
    "model = Sequential()\n",
    "model.add(Conv2D(32, kernel_size = (7, 2*n_feat - 1), input_shape = (win, n_feat, 1), padding = 'same'))\n",
    "model.add(Activation('relu'))\n",
    "model.add(Dropout(0.12))\n",
    "model.add(Conv2D(64, kernel_size = (7, n_feat), padding='valid'))\n",
    "model.add(Activation('relu'))\n",
    "model.add(Dropout(0.25))\n",
    "model.add(Flatten())\n",
    "model.add(Dense(128))\n",
    "model.add(Activation('relu'))\n",
    "model.add(Dropout(0.5))\n",
    "model.add(Dense(n_cls, activation = 'softmax'))\n",
    "model.summary()"
   ]
  },
  {
   "cell_type": "code",
   "execution_count": null,
   "metadata": {
    "collapsed": true
   },
   "outputs": [],
   "source": [
    "optimizer = SGD()\n",
    "loss = 'categorical_crossentropy'\n",
    "metrics = ['accuracy']\n",
    "model.compile(optimizer=optimizer, loss=loss, metrics=metrics)\n",
    "x_train = x_train[:240000]\n",
    "y_train = y_train[:240000]\n",
    "x_test = x_test[:100000]\n",
    "y_test = y_test[:100000]"
   ]
  },
  {
   "cell_type": "code",
   "execution_count": null,
   "metadata": {},
   "outputs": [],
   "source": [
    "def getPnl(act, ask, bid, fee = 0.5):\n",
    "    pnl = 0.\n",
    "    pos = 0.\n",
    "    prc = 0.\n",
    "    n = len(act)\n",
    "    flip = 0\n",
    "    for i in range(n):\n",
    "        if act[i] == 2 and pos < 1: \n",
    "            pnl -= (ask[i] + fee/(1-pos))*(1-pos)\n",
    "            prc = (ask[i] + fee/(1-pos))\n",
    "            pos = 1\n",
    "            flip += 1\n",
    "        elif act[i] == 1 and pos > -1:\n",
    "            pnl += (bid[i] - fee/(pos+1))*(pos+1)\n",
    "            prc = (bid[i] - fee/(pos+1))\n",
    "            pos = -1\n",
    "            flip += 1\n",
    "    pnl += pos*prc\n",
    "    return flip, pnl\n",
    "print \"start training\""
   ]
  },
  {
   "cell_type": "code",
   "execution_count": null,
   "metadata": {},
   "outputs": [],
   "source": [
    "steps = []\n",
    "train_loss = []\n",
    "test_loss = []\n",
    "train_accu = []\n",
    "test_accu = []\n",
    "in_pnl = []\n",
    "out_pnl = []\n",
    "in_flip = []\n",
    "out_flip = []\n",
    "for i in range(400):\n",
    "    steps.append(i)\n",
    "    res = model.fit(x_train, y_train, batch_size=512, epochs = 10, verbose = 0, validation_data=(x_test, y_test), \n",
    "                    class_weight = cls_wts)\n",
    "    lr, ar = model.evaluate(x_train, y_train, batch_size=128)\n",
    "    train_loss.append(lr)\n",
    "    train_accu.append(ar)\n",
    "    le, ae = model.evaluate(x_test, y_test, batch_size=128)\n",
    "    test_loss.append(le)\n",
    "    test_accu.append(ae)\n",
    "    print \"\\n The loss of the model is \",le\n",
    "    print \"The accuracy of the model is \",ae\n",
    "    in_pred = model.predict_classes(x_train)\n",
    "    out_pred = model.predict_classes(x_test)\n",
    "    inf, inp = getPnl(in_pred, ask, bid)\n",
    "    outf, outp = getPnl(out_pred, ask_test, bid_test)\n",
    "    in_pnl.append(inp)\n",
    "    in_flip.append(inf)\n",
    "    out_pnl.append(outp)\n",
    "    out_flip.append(outf)\n",
    "    print \"The (flip, pnl) for the in sample is \", inf, inp\n",
    "    print \"The (flip, pnl) for the out sample is \", outf, outp"
   ]
  },
  {
   "cell_type": "code",
   "execution_count": null,
   "metadata": {},
   "outputs": [],
   "source": [
    "fig, axes = plt.subplots(2,2, figsize = (12, 12))\n",
    "fig.subplots_adjust(hspace = 0.4, wspace = 0.4)\n",
    "\n",
    "axes[0][0].set_title('Loss')\n",
    "axes[0][0].plot(steps, train_loss, label = 'train loss')\n",
    "axes[0][0].plot(steps, test_loss, label = 'test loss')\n",
    "axes[0][0].set_xlabel('# of steps')\n",
    "axes[0][0].legend()\n",
    "\n",
    "axes[0][1].set_title('Accuracy')\n",
    "axes[0][1].plot(steps, train_accu, label = 'train accuracy')\n",
    "axes[0][1].plot(steps, test_accu, label = 'test accuracy')\n",
    "axes[0][1].set_xlabel('# of steps')\n",
    "axes[0][1].legend()\n",
    "\n",
    "axes[1][0].set_title('# of flips')\n",
    "axes[1][0].plot(steps, in_flip, label ='in sample')\n",
    "axes[1][0].plot(steps, out_flip, label ='out sample')\n",
    "axes[1][0].set_xlabel('# of steps')\n",
    "axes[1][0].legend()\n",
    "\n",
    "axes[1][1].set_title('Total pnl')\n",
    "axes[1][1].plot(steps, in_pnl, label ='in sample')\n",
    "axes[1][1].plot(steps, out_pnl, label ='out sample')\n",
    "axes[1][1].set_xlabel('# of steps')\n",
    "axes[1][1].legend()\n"
   ]
  },
  {
   "cell_type": "code",
   "execution_count": null,
   "metadata": {},
   "outputs": [],
   "source": []
  },
  {
   "cell_type": "code",
   "execution_count": null,
   "metadata": {},
   "outputs": [],
   "source": []
  },
  {
   "cell_type": "code",
   "execution_count": null,
   "metadata": {
    "scrolled": true
   },
   "outputs": [],
   "source": []
  },
  {
   "cell_type": "code",
   "execution_count": null,
   "metadata": {},
   "outputs": [],
   "source": []
  },
  {
   "cell_type": "code",
   "execution_count": null,
   "metadata": {},
   "outputs": [],
   "source": []
  },
  {
   "cell_type": "code",
   "execution_count": null,
   "metadata": {
    "collapsed": true
   },
   "outputs": [],
   "source": []
  }
 ],
 "metadata": {
  "kernelspec": {
   "display_name": "Python 2",
   "language": "python",
   "name": "python2"
  },
  "language_info": {
   "codemirror_mode": {
    "name": "ipython",
    "version": 2
   },
   "file_extension": ".py",
   "mimetype": "text/x-python",
   "name": "python",
   "nbconvert_exporter": "python",
   "pygments_lexer": "ipython2",
   "version": "2.7.13"
  }
 },
 "nbformat": 4,
 "nbformat_minor": 2
}

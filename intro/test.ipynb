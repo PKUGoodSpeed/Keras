{
 "cells": [
  {
   "cell_type": "code",
   "execution_count": 27,
   "metadata": {},
   "outputs": [],
   "source": [
    "import numpy as np\n",
    "from keras.datasets import mnist\n",
    "from keras.utils import np_utils\n",
    "from keras.models import Sequential\n",
    "from keras.layers.core import Dense, Dropout, Activation\n",
    "from keras.optimizers import SGD, Adam, RMSprop\n",
    "%matplotlib inline\n",
    "import matplotlib.pyplot as plt\n",
    "plt.ion()"
   ]
  },
  {
   "cell_type": "code",
   "execution_count": 28,
   "metadata": {
    "collapsed": true
   },
   "outputs": [],
   "source": [
    "(xr, yr), (xs, ys) = mnist.load_data()"
   ]
  },
  {
   "cell_type": "code",
   "execution_count": 29,
   "metadata": {},
   "outputs": [
    {
     "data": {
      "text/plain": [
       "<matplotlib.collections.PolyCollection at 0x7f0bb2865c50>"
      ]
     },
     "execution_count": 29,
     "metadata": {},
     "output_type": "execute_result"
    },
    {
     "data": {
      "image/png": "[encoded data removed]",
      "text/plain": [
       "<matplotlib.figure.Figure at 0x7f0bb5102110>"
      ]
     },
     "metadata": {},
     "output_type": "display_data"
    }
   ],
   "source": [
    "plt.pcolor(xr[0])"
   ]
  },
  {
   "cell_type": "code",
   "execution_count": 30,
   "metadata": {},
   "outputs": [
    {
     "data": {
      "text/plain": [
       "<matplotlib.collections.QuadMesh at 0x7f0c2c3cc190>"
      ]
     },
     "execution_count": 30,
     "metadata": {},
     "output_type": "execute_result"
    },
    {
     "data": {
      "image/png": "[encoded data removed]",
      "text/plain": [
       "<matplotlib.figure.Figure at 0x7f0c2c428890>"
      ]
     },
     "metadata": {},
     "output_type": "display_data"
    }
   ],
   "source": [
    "plt.pcolormesh(xr[0], cmap = plt.cm.gray_r)"
   ]
  },
  {
   "cell_type": "code",
   "execution_count": 31,
   "metadata": {
    "collapsed": true
   },
   "outputs": [],
   "source": [
    "n_cls = 10\n",
    "yr = np_utils.to_categorical(yr, n_cls)\n",
    "ys= np_utils.to_categorical(ys, n_cls)"
   ]
  },
  {
   "cell_type": "code",
   "execution_count": 32,
   "metadata": {
    "collapsed": true
   },
   "outputs": [],
   "source": [
    "xr = xr.reshape(np.shape(xr)[0], 28*28)\n",
    "xs = xs.reshape(np.shape(xs)[0], 28*28)\n",
    "xr = xr.astype('float32')\n",
    "xs = xs.astype('float32')\n",
    "xr /= 255.\n",
    "xs /= 255."
   ]
  },
  {
   "cell_type": "code",
   "execution_count": 33,
   "metadata": {
    "collapsed": true
   },
   "outputs": [],
   "source": [
    "model = Sequential()"
   ]
  },
  {
   "cell_type": "code",
   "execution_count": 34,
   "metadata": {},
   "outputs": [
    {
     "name": "stdout",
     "output_type": "stream",
     "text": [
      "_________________________________________________________________\n",
      "Layer (type)                 Output Shape              Param #   \n",
      "=================================================================\n",
      "fc_layer (Dense)             (None, 128)               100480    \n",
      "=================================================================\n",
      "Total params: 100,480.0\n",
      "Trainable params: 100,480\n",
      "Non-trainable params: 0.0\n",
      "_________________________________________________________________\n",
      "100480\n"
     ]
    }
   ],
   "source": [
    "model.add(Dense(128, input_shape=(28*28,), activation = 'sigmoid', name='fc_layer'))\n",
    "model.summary()\n",
    "print 128*28*28 + 128"
   ]
  },
  {
   "cell_type": "code",
   "execution_count": 35,
   "metadata": {},
   "outputs": [
    {
     "name": "stdout",
     "output_type": "stream",
     "text": [
      "_________________________________________________________________\n",
      "Layer (type)                 Output Shape              Param #   \n",
      "=================================================================\n",
      "fc_layer (Dense)             (None, 128)               100480    \n",
      "_________________________________________________________________\n",
      "act_layer1 (Activation)      (None, 128)               0         \n",
      "=================================================================\n",
      "Total params: 100,480.0\n",
      "Trainable params: 100,480.0\n",
      "Non-trainable params: 0.0\n",
      "_________________________________________________________________\n"
     ]
    }
   ],
   "source": [
    "model.add(Activation('sigmoid', name = 'act_layer1'))\n",
    "model.summary()"
   ]
  },
  {
   "cell_type": "code",
   "execution_count": 36,
   "metadata": {
    "collapsed": true
   },
   "outputs": [],
   "source": [
    "import traceback\n",
    "class A:\n",
    "    def __init__(self, a):\n",
    "        self.a = a\n",
    "    \n",
    "    def outputName(self):\n",
    "        print type(self.__class__.__name__)\n",
    "        filename, codeline, funcName, text = traceback.extract_stack()[-1]\n",
    "        print \"filename = \", filename\n",
    "        print \"classname = \", self.__class__.__name__\n",
    "        print \"\""
   ]
  },
  {
   "cell_type": "code",
   "execution_count": 37,
   "metadata": {},
   "outputs": [
    {
     "name": "stdout",
     "output_type": "stream",
     "text": [
      "CPU times: user 10 µs, sys: 6 µs, total: 16 µs\n",
      "Wall time: 23.8 µs\n",
      "<type 'str'>\n",
      "filename =  <ipython-input-36-016b29861f47>\n",
      "classname =  A\n",
      "\n",
      "CPU times: user 1.43 ms, sys: 957 µs, total: 2.39 ms\n",
      "Wall time: 1.64 ms\n"
     ]
    }
   ],
   "source": [
    "%time a = A(3)\n",
    "%time a.outputName()"
   ]
  },
  {
   "cell_type": "code",
   "execution_count": 38,
   "metadata": {},
   "outputs": [
    {
     "name": "stdout",
     "output_type": "stream",
     "text": [
      "_________________________________________________________________\n",
      "Layer (type)                 Output Shape              Param #   \n",
      "=================================================================\n",
      "fc_layer (Dense)             (None, 128)               100480    \n",
      "_________________________________________________________________\n",
      "act_layer1 (Activation)      (None, 128)               0         \n",
      "=================================================================\n",
      "Total params: 100,480.0\n",
      "Trainable params: 100,480.0\n",
      "Non-trainable params: 0.0\n",
      "_________________________________________________________________\n"
     ]
    }
   ],
   "source": [
    "model.summary()\n",
    "from IPython.display import SVG, display, Image\n",
    "from keras.utils.vis_utils import plot_model\n",
    "plot_model(model)"
   ]
  },
  {
   "cell_type": "code",
   "execution_count": 39,
   "metadata": {},
   "outputs": [
    {
     "data": {
      "image/png": "[encoded data removed]",
      "text/plain": [
       "<IPython.core.display.Image object>"
      ]
     },
     "execution_count": 39,
     "metadata": {},
     "output_type": "execute_result"
    }
   ],
   "source": [
    "Image('model.png')"
   ]
  },
  {
   "cell_type": "code",
   "execution_count": 40,
   "metadata": {
    "collapsed": true
   },
   "outputs": [],
   "source": [
    "import keras"
   ]
  },
  {
   "cell_type": "code",
   "execution_count": 41,
   "metadata": {
    "collapsed": true
   },
   "outputs": [],
   "source": [
    "from sklearn.utils import class_weight"
   ]
  },
  {
   "cell_type": "code",
   "execution_count": 50,
   "metadata": {},
   "outputs": [
    {
     "name": "stdout",
     "output_type": "stream",
     "text": [
      "[5 0 4 ..., 5 6 8]\n",
      "[0 1 2 3 4 5 6 7 8 9]\n",
      "[ 1.01300017  0.88994364  1.00704935  0.97863318  1.02704553  1.10680686\n",
      "  1.01385603  0.95770152  1.02546573  1.00857287]\n",
      "6000.0 6000.0\n",
      "10.0280748719\n"
     ]
    }
   ],
   "source": [
    "y_cls = np.argmax(yr, axis = 1)\n",
    "print y_cls\n",
    "print np.unique(y_cls)\n",
    "cls_weight = class_weight.compute_class_weight('balanced', np.unique(y_cls), y_cls)\n",
    "print cls_weight\n",
    "print list(y_cls).count(0)*cls_weight[0], list(y_cls).count(1)*cls_weight[1]"
   ]
  },
  {
   "cell_type": "code",
   "execution_count": 59,
   "metadata": {},
   "outputs": [
    {
     "name": "stdout",
     "output_type": "stream",
     "text": [
      "[<keras.layers.core.Dense object at 0x7f0c2c4095d0>, <keras.layers.core.Activation object at 0x7f0c2c409590>]\n",
      "<keras.layers.core.Dense object at 0x7f0c2c4095d0>\n"
     ]
    }
   ],
   "source": [
    "print model.layers\n",
    "print model.get_layer('fc_layer')"
   ]
  },
  {
   "cell_type": "code",
   "execution_count": null,
   "metadata": {
    "collapsed": true
   },
   "outputs": [],
   "source": []
  }
 ],
 "metadata": {
  "kernelspec": {
   "display_name": "Python 2",
   "language": "python",
   "name": "python2"
  },
  "language_info": {
   "codemirror_mode": {
    "name": "ipython",
    "version": 2
   },
   "file_extension": ".py",
   "mimetype": "text/x-python",
   "name": "python",
   "nbconvert_exporter": "python",
   "pygments_lexer": "ipython2",
   "version": "2.7.13"
  }
 },
 "nbformat": 4,
 "nbformat_minor": 2
}

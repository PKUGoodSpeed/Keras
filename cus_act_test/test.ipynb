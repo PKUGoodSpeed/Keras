{
 "cells": [
  {
   "cell_type": "code",
   "execution_count": 76,
   "metadata": {},
   "outputs": [],
   "source": [
    "import numpy as np\n",
    "from keras.datasets import mnist\n",
    "from keras.models import Sequential\n",
    "from keras.layers.core import Dense, Dropout, Activation\n",
    "from keras.optimizers import SGD, Adam, RMSprop\n",
    "from keras.utils import np_utils, plot_model\n",
    "import tensorflow as tf"
   ]
  },
  {
   "cell_type": "code",
   "execution_count": 77,
   "metadata": {
    "collapsed": true
   },
   "outputs": [],
   "source": [
    "from IPython.display import SVG\n",
    "%matplotlib inline\n",
    "import matplotlib as mpl\n",
    "import matplotlib.pyplot as plt\n",
    "mpl.rc('font',family = 'serif',size = 17)\n",
    "mpl.rcParams['xtick.major.size'] = 5\n",
    "mpl.rcParams['xtick.minor.size'] = 2\n",
    "mpl.rcParams['ytick.major.size'] = 5\n",
    "mpl.rcParams['ytick.minor.size'] = 2"
   ]
  },
  {
   "cell_type": "code",
   "execution_count": 78,
   "metadata": {
    "collapsed": true
   },
   "outputs": [],
   "source": [
    "from keras import initializers, regularizers, constraints\n",
    "from keras.engine import Layer, InputSpec\n",
    "from keras import backend as K\n",
    "from keras.legacy import interfaces"
   ]
  },
  {
   "cell_type": "code",
   "execution_count": 79,
   "metadata": {},
   "outputs": [],
   "source": [
    "class Itachi(Layer):\n",
    "    '''\n",
    "    Trying customized activation energy\n",
    "    '''\n",
    "    def __init__(self, alpha=0.3, **kwargs):\n",
    "        super(Itachi, self).__init__(**kwargs)\n",
    "        self.supports_masking = True\n",
    "        self.alpha = K.cast_to_floatx(alpha)\n",
    "\n",
    "    def call(self, inputs):\n",
    "        tf.tanh\n",
    "        return tf.sinh(tf.atan(inputs*self.alpha))\n",
    "        #return K.relu(inputs, alpha=self.alpha)\n",
    "\n",
    "    def get_config(self):\n",
    "        config = {'alpha': float(self.alpha)}\n",
    "        base_config = super(Itachi, self).get_config()\n",
    "        return dict(list(base_config.items()) + list(config.items()))"
   ]
  },
  {
   "cell_type": "code",
   "execution_count": 80,
   "metadata": {},
   "outputs": [],
   "source": [
    "(xr, yr), (xs, ys) = mnist.load_data()\n",
    "nr = len(xr)\n",
    "ns = len(xs)\n",
    "n_cls = 10\n",
    "xr = xr.reshape(nr, -1).astype('float32')/255.\n",
    "xs = xs.reshape(ns, -1).astype('float32')/255.\n",
    "yr = np_utils.to_categorical(yr, n_cls)\n",
    "ys = np_utils.to_categorical(ys, n_cls)"
   ]
  },
  {
   "cell_type": "code",
   "execution_count": 81,
   "metadata": {},
   "outputs": [
    {
     "name": "stdout",
     "output_type": "stream",
     "text": [
      "_________________________________________________________________\n",
      "Layer (type)                 Output Shape              Param #   \n",
      "=================================================================\n",
      "dense_13 (Dense)             (None, 128)               100480    \n",
      "_________________________________________________________________\n",
      "activation_13 (Activation)   (None, 128)               0         \n",
      "_________________________________________________________________\n",
      "dense_14 (Dense)             (None, 10)                1290      \n",
      "_________________________________________________________________\n",
      "activation_14 (Activation)   (None, 10)                0         \n",
      "=================================================================\n",
      "Total params: 101,770.0\n",
      "Trainable params: 101,770.0\n",
      "Non-trainable params: 0.0\n",
      "_________________________________________________________________\n"
     ]
    }
   ],
   "source": [
    "model = Sequential()\n",
    "model.add(Dense(128, input_shape = (28*28,)))\n",
    "model.add(Activation(Itachi(1.)))\n",
    "model.add(Dense(10))\n",
    "model.add(Activation('softmax'))\n",
    "model.summary()"
   ]
  },
  {
   "cell_type": "code",
   "execution_count": 82,
   "metadata": {},
   "outputs": [
    {
     "name": "stdout",
     "output_type": "stream",
     "text": [
      "CPU times: user 19.9 ms, sys: 0 ns, total: 19.9 ms\n",
      "Wall time: 19.8 ms\n"
     ]
    }
   ],
   "source": [
    "optimizer = SGD()\n",
    "loss = 'categorical_crossentropy'\n",
    "metrics = ['accuracy']\n",
    "%time model.compile(loss=loss, optimizer=optimizer, metrics=metrics)"
   ]
  },
  {
   "cell_type": "code",
   "execution_count": 83,
   "metadata": {},
   "outputs": [
    {
     "name": "stdout",
     "output_type": "stream",
     "text": [
      "Train on 60000 samples, validate on 10000 samples\n",
      "Epoch 1/5\n",
      "60000/60000 [==============================] - 1s - loss: 0.9747 - acc: 0.7642 - val_loss: 0.5818 - val_acc: 0.8633\n",
      "Epoch 2/5\n",
      "60000/60000 [==============================] - 1s - loss: 0.5232 - acc: 0.8666 - val_loss: 0.4490 - val_acc: 0.8849\n",
      "Epoch 3/5\n",
      "60000/60000 [==============================] - 1s - loss: 0.4388 - acc: 0.8826 - val_loss: 0.3972 - val_acc: 0.8950\n",
      "Epoch 4/5\n",
      "60000/60000 [==============================] - 1s - loss: 0.3986 - acc: 0.8908 - val_loss: 0.3665 - val_acc: 0.9008\n",
      "Epoch 5/5\n",
      "60000/60000 [==============================] - 1s - loss: 0.3740 - acc: 0.8961 - val_loss: 0.3488 - val_acc: 0.9057\n",
      "CPU times: user 13.1 s, sys: 2.17 s, total: 15.3 s\n",
      "Wall time: 8.13 s\n",
      " 7936/10000 [======================>.......] - ETA: 0s\n",
      "The score of the model is:  0.348811364627\n",
      "The test accuracy of the model is:  0.9057\n"
     ]
    }
   ],
   "source": [
    "%time res = model.fit(xr, yr, batch_size=128, epochs=5, shuffle=True, validation_data=(xs, ys), verbose = 1)\n",
    "score, accu = model.evaluate(xs, ys, batch_size=128)\n",
    "print \"\\nThe score of the model is: \", score\n",
    "print \"The test accuracy of the model is: \", accu"
   ]
  },
  {
   "cell_type": "code",
   "execution_count": 84,
   "metadata": {},
   "outputs": [
    {
     "name": "stdout",
     "output_type": "stream",
     "text": [
      "[-0.08090267 -0.020613   -0.07993989  0.04380115 -0.0730295   0.00975981\n",
      " -0.00711627 -0.0193804  -0.05383176 -0.02218625  0.04804438 -0.01250061\n",
      " -0.03208802  0.06406391  0.03958414  0.05356546  0.06447201  0.02300709\n",
      "  0.03588032  0.0466161  -0.00522474  0.05731849 -0.0069813  -0.01051601\n",
      " -0.01920067  0.01907089 -0.02635799  0.01058134 -0.06209949  0.04121506\n",
      "  0.01635291 -0.07100623 -0.03876287 -0.01644821  0.0056909   0.04253132\n",
      " -0.02104115  0.00756031 -0.00201198  0.05135093 -0.05109711  0.02908006\n",
      " -0.00250877  0.02039568 -0.06038096  0.03394144  0.04355836 -0.06860894\n",
      "  0.07093684  0.05064594  0.03853437 -0.02131405  0.00413174  0.03133373\n",
      " -0.07060201  0.00763016  0.0366344  -0.00702129  0.02360932  0.00853465\n",
      " -0.05127206  0.03138138  0.04828211  0.03511008 -0.06068351 -0.01121341\n",
      "  0.07068989  0.04989759  0.0190974  -0.04916223 -0.0083596   0.04202598\n",
      "  0.04378647  0.00369472  0.06967872 -0.01370331  0.07228587 -0.05783442\n",
      "  0.02214417 -0.05210983  0.0534913   0.03256479  0.07677048  0.06821341\n",
      "  0.01443797 -0.05721733 -0.03251217 -0.03068149 -0.01085377  0.0806229\n",
      "  0.07350809  0.0507777   0.0607873   0.0257924   0.02758595 -0.02542634\n",
      " -0.06728435  0.06695648 -0.01698074 -0.08082686 -0.01114731  0.06894497\n",
      "  0.01915538 -0.01554792 -0.06910899  0.07445114  0.07502265  0.05140308\n",
      " -0.00238337  0.03778501 -0.02569704 -0.041874   -0.02559977  0.05299287\n",
      "  0.00200798 -0.03518184 -0.05988774  0.07475593  0.05311378  0.04987628\n",
      "  0.00036134 -0.01624587  0.05958795  0.05194961 -0.00683259 -0.05197816\n",
      " -0.01428586  0.07559241]\n",
      "[ 0.03130342 -0.04047034 -0.03965005  0.01547551  0.06717138  0.02239196\n",
      "  0.02207397  0.00595461  0.04080266 -0.0153159 ]\n",
      "[ 0.05768497  0.26224723 -0.24136515  0.11541903 -0.27811733 -0.12698203\n",
      "  0.03968858  0.21852298 -0.25638422  0.21129179]\n",
      "[-0.0360571   0.05992197 -0.01485143 -0.0255894   0.01810477  0.11951024\n",
      " -0.00986852  0.05235712 -0.13929547 -0.02423224]\n"
     ]
    }
   ],
   "source": [
    "w1, b1, w2, b2 = model.get_weights()\n",
    "print w1[0]\n",
    "print b1[:10]\n",
    "print w2[0]\n",
    "print b2"
   ]
  },
  {
   "cell_type": "code",
   "execution_count": null,
   "metadata": {
    "collapsed": true
   },
   "outputs": [],
   "source": []
  }
 ],
 "metadata": {
  "kernelspec": {
   "display_name": "Python 2",
   "language": "python",
   "name": "python2"
  },
  "language_info": {
   "codemirror_mode": {
    "name": "ipython",
    "version": 2
   },
   "file_extension": ".py",
   "mimetype": "text/x-python",
   "name": "python",
   "nbconvert_exporter": "python",
   "pygments_lexer": "ipython2",
   "version": "2.7.13"
  }
 },
 "nbformat": 4,
 "nbformat_minor": 2
}
